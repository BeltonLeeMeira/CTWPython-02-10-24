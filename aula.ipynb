{
 "cells": [
  {
   "cell_type": "markdown",
   "metadata": {},
   "source": [
    "Computational Thinking with Python - \n",
    "Aula 02/10/24"
   ]
  },
  {
   "cell_type": "code",
   "execution_count": 7,
   "metadata": {},
   "outputs": [
    {
     "name": "stdout",
     "output_type": "stream",
     "text": [
      "Sua idade é: \n",
      "Você é um adulto\n"
     ]
    }
   ],
   "source": [
    "# Estrutura de entrada e saída\n",
    "\n",
    "idade = int(input(\"digite sua idade\"))\n",
    "print(\"Sua idade é: \")\n",
    "\n",
    "\n",
    "#Estrutura de condição\n",
    "\n",
    "if idade < 20:\n",
    "    print(\"Você é Jovem\")\n",
    "elif 12 < idade < 18:\n",
    "    print(\"Você é um adolescente\")\n",
    "elif 18 < idade < 60:\n",
    "    print(\"Você é um adulto\")        \n",
    "else:\n",
    "    print(\"Você pode ser uma criança ou um idoso\")"
   ]
  },
  {
   "cell_type": "code",
   "execution_count": 30,
   "metadata": {},
   "outputs": [
    {
     "name": "stdout",
     "output_type": "stream",
     "text": [
      "10\n",
      "15\n",
      "15\n",
      "15\n",
      "6\n"
     ]
    }
   ],
   "source": [
    "i = 0\n",
    "\n",
    "while i < 5:\n",
    "    idade = int(input(\"Digite sua idade\"))\n",
    "    print (idade)\n",
    "    i += 1"
   ]
  },
  {
   "cell_type": "code",
   "execution_count": 20,
   "metadata": {},
   "outputs": [
    {
     "name": "stdout",
     "output_type": "stream",
     "text": [
      "['Volvo', 'Chevrolet', 'BMW', 'BYD', 'Toyota']\n"
     ]
    }
   ],
   "source": [
    "#Estrutura de repetição (for)\n",
    "\n",
    "lista_carros = ['Volvo', 'Chevrolet', 'BMW', 'BYD', 'Toyota']\n",
    "print(lista_carros)\n",
    "\n",
    "for k in lista_carros:\n",
    "    if k == 'BMW':\n",
    "        print(k)\n",
    "    break"
   ]
  },
  {
   "cell_type": "code",
   "execution_count": 40,
   "metadata": {},
   "outputs": [
    {
     "name": "stdout",
     "output_type": "stream",
     "text": [
      "12.0 equivale a -11.11111111111111\n"
     ]
    }
   ],
   "source": [
    "temp_farenheit = float(input(\"Digite uma temperatura em farenheit\"))\n",
    "temp_celsius = 0\n",
    "while temp_farenheit !=0:\n",
    "    temp_celsius = 5/9 * (temp_farenheit - 32)\n",
    "    print(f\"{temp_farenheit} equivale a {temp_celsius}\")\n",
    "    break"
   ]
  },
  {
   "cell_type": "code",
   "execution_count": 45,
   "metadata": {},
   "outputs": [
    {
     "name": "stdout",
     "output_type": "stream",
     "text": [
      "10.0F equivale a -12.222222222222223ºC\n",
      "20.0F equivale a -6.666666666666667ºC\n",
      "30.0F equivale a -1.1111111111111112ºC\n",
      "[-12.222222222222223, -6.666666666666667, -1.1111111111111112]\n",
      "Soma 62\n"
     ]
    },
    {
     "ename": "TypeError",
     "evalue": "len() takes exactly one argument (0 given)",
     "output_type": "error",
     "traceback": [
      "\u001b[1;31m---------------------------------------------------------------------------\u001b[0m",
      "\u001b[1;31mTypeError\u001b[0m                                 Traceback (most recent call last)",
      "Cell \u001b[1;32mIn[45], line 17\u001b[0m\n\u001b[0;32m     14\u001b[0m soma \u001b[38;5;241m+\u001b[39m\u001b[38;5;241m=\u001b[39m i\n\u001b[0;32m     15\u001b[0m \u001b[38;5;28mprint\u001b[39m(\u001b[38;5;124m'\u001b[39m\u001b[38;5;124mSoma\u001b[39m\u001b[38;5;124m'\u001b[39m, soma)\n\u001b[1;32m---> 17\u001b[0m media_celsius \u001b[38;5;241m=\u001b[39m soma \u001b[38;5;241m/\u001b[39m \u001b[38;5;28;43mlen\u001b[39;49m\u001b[43m(\u001b[49m\u001b[43m)\u001b[49m\n\u001b[0;32m     19\u001b[0m \u001b[38;5;66;03m# Mostre como criar uma estrutura para mostrar a soma total e a media de temperatura em celsius.\u001b[39;00m\n",
      "\u001b[1;31mTypeError\u001b[0m: len() takes exactly one argument (0 given)"
     ]
    }
   ],
   "source": [
    "lista_temperaturas = []\n",
    "\n",
    "num_temperatura = int(input(\"Digite a quantidade de temperatura a serem transformadas\"))\n",
    "for i in range(num_temperatura):\n",
    "    temp_farenheit = float(input(f\"Digite uma temperatura em farenheit {i+1}\"))\n",
    "    temp_celsius = 5/9 * (temp_farenheit - 32)\n",
    "    print(f\"{temp_farenheit}F equivale a {temp_celsius}ºC\")\n",
    "\n",
    "# Mostre como inserir os valores de temeperatura em celsius em uma lista.\n",
    "    lista_temperaturas.append(temp_celsius)\n",
    "\n",
    "print(lista_temperaturas)\n",
    "\n",
    "\n",
    "# Mostre como criar uma estrutura para mostrar a soma total e a media de temperatura em celsius."
   ]
  },
  {
   "cell_type": "code",
   "execution_count": null,
   "metadata": {},
   "outputs": [],
   "source": [
    "soma = 0\n",
    "\n",
    "print(lista_temperaturas)\n",
    "\n",
    "for i n lista_temperaturas:\n",
    "    soma += i\n",
    "    print(\"Soma\", soma)\n",
    "\n",
    "    media = soma / len(lista_temperaturas)\n",
    "    print(\"Média\", media)"
   ]
  },
  {
   "cell_type": "code",
   "execution_count": 52,
   "metadata": {},
   "outputs": [
    {
     "name": "stdout",
     "output_type": "stream",
     "text": [
      "Temperatura em graus, -10.00\n",
      "Temperatura em graus, -10.00\n",
      "Temperatura em graus, -15.00\n",
      "Temperatura em graus, -14.44\n",
      "Temperatura em graus, -13.89\n",
      "Você não digitou um número\n",
      "Você não digitou um número\n",
      "Temperatura em graus, -16.11\n",
      "Temperatura em graus, -16.11\n",
      "Temperatura em graus, -16.11\n",
      "Temperatura em graus, -16.11\n",
      "Temperatura em graus, -16.11\n",
      "Temperatura em graus, -16.11\n",
      "Temperatura em graus, 0.56\n",
      "Temperatura em graus, -16.11\n",
      "Temperatura em graus, -16.11\n",
      "Temperatura em graus, -16.11\n",
      "Temperatura em graus, -16.11\n",
      "Temperatura em graus, -16.11\n",
      "Encerra o loop\n"
     ]
    }
   ],
   "source": [
    "while True:\n",
    "    entrada = input(\"Digite a temperatura em farenheit\")\n",
    "\n",
    "    if entrada.lower() == 'sair':\n",
    "        print(\"Encerra o loop\")\n",
    "        break\n",
    "    try:\n",
    "        temp_farenheit = float(entrada)\n",
    "        temp_celsius = 5/9 * (temp_farenheit - 32)\n",
    "        print(f\"Temperatura em graus, {temp_celsius:.2f}\")\n",
    "    except:\n",
    "        print(\"Você não digitou um número\")1"
   ]
  },
  {
   "cell_type": "code",
   "execution_count": 44,
   "metadata": {},
   "outputs": [
    {
     "name": "stdout",
     "output_type": "stream",
     "text": [
      "Soma 60\n",
      "Média 20.0\n"
     ]
    }
   ],
   "source": [
    "lista = [10, 20, 30]\n",
    "\n",
    "soma = 0 \n",
    "\n",
    "for i in lista:\n",
    "    soma += i\n",
    "print('Soma', soma)\n",
    "\n",
    "media = soma / len(lista)\n",
    "print('Média', media)"
   ]
  },
  {
   "cell_type": "code",
   "execution_count": 9,
   "metadata": {},
   "outputs": [
    {
     "name": "stdout",
     "output_type": "stream",
     "text": [
      "[100, 200, 300, 400, 500]\n",
      "100\n",
      "300\n",
      "600\n",
      "1000\n",
      "1500\n"
     ]
    }
   ],
   "source": [
    "lista_numeros = [100, 200, 300, 400, 500]\n",
    "print(lista_numeros)\n",
    "\n",
    "soma = 0\n",
    "\n",
    "for numero in lista_numeros:\n",
    "    \n",
    "    soma += numero\n",
    "    print(soma)"
   ]
  }
 ],
 "metadata": {
  "kernelspec": {
   "display_name": "Python 3",
   "language": "python",
   "name": "python3"
  },
  "language_info": {
   "codemirror_mode": {
    "name": "ipython",
    "version": 3
   },
   "file_extension": ".py",
   "mimetype": "text/x-python",
   "name": "python",
   "nbconvert_exporter": "python",
   "pygments_lexer": "ipython3",
   "version": "3.12.3"
  }
 },
 "nbformat": 4,
 "nbformat_minor": 2
}
